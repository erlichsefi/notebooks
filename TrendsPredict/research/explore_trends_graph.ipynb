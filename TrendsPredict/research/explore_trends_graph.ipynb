{
 "cells": [
  {
   "cell_type": "code",
   "execution_count": 66,
   "metadata": {},
   "outputs": [
    {
     "name": "stdout",
     "output_type": "stream",
     "text": [
      "Requirement already satisfied: networkx in ./.venv/lib/python3.9/site-packages (3.2.1)\n",
      "Collecting free-proxy\n",
      "  Downloading free_proxy-1.1.1.tar.gz (5.1 kB)\n",
      "  Installing build dependencies ... \u001b[?25ldone\n",
      "\u001b[?25h  Getting requirements to build wheel ... \u001b[?25ldone\n",
      "\u001b[?25h  Installing backend dependencies ... \u001b[?25ldone\n",
      "\u001b[?25h  Preparing metadata (pyproject.toml) ... \u001b[?25ldone\n",
      "\u001b[?25hRequirement already satisfied: lxml in ./.venv/lib/python3.9/site-packages (from free-proxy) (5.1.0)\n",
      "Requirement already satisfied: requests in ./.venv/lib/python3.9/site-packages (from free-proxy) (2.31.0)\n",
      "Requirement already satisfied: charset-normalizer<4,>=2 in ./.venv/lib/python3.9/site-packages (from requests->free-proxy) (3.3.2)\n",
      "Requirement already satisfied: idna<4,>=2.5 in ./.venv/lib/python3.9/site-packages (from requests->free-proxy) (3.6)\n",
      "Requirement already satisfied: urllib3<3,>=1.21.1 in ./.venv/lib/python3.9/site-packages (from requests->free-proxy) (2.2.0)\n",
      "Requirement already satisfied: certifi>=2017.4.17 in ./.venv/lib/python3.9/site-packages (from requests->free-proxy) (2024.2.2)\n",
      "Building wheels for collected packages: free-proxy\n",
      "  Building wheel for free-proxy (pyproject.toml) ... \u001b[?25ldone\n",
      "\u001b[?25h  Created wheel for free-proxy: filename=free_proxy-1.1.1-py3-none-any.whl size=5643 sha256=bab3cc3303001349fe28e5f6547979e983b8c51971533b8817df7bea9182cc52\n",
      "  Stored in directory: /Users/erlichsefi/Library/Caches/pip/wheels/a9/38/db/3efef5f071876e3a6888f9933d636c6b764655a96a32d78f4e\n",
      "Successfully built free-proxy\n",
      "Installing collected packages: free-proxy\n",
      "Successfully installed free-proxy-1.1.1\n"
     ]
    }
   ],
   "source": [
    "! pip install networkx\n",
    "! pip install free-proxy"
   ]
  },
  {
   "cell_type": "code",
   "execution_count": 22,
   "metadata": {},
   "outputs": [],
   "source": [
    "%load_ext dotenv\n",
    "%dotenv"
   ]
  },
  {
   "cell_type": "code",
   "execution_count": 67,
   "metadata": {},
   "outputs": [
    {
     "data": {
      "text/plain": [
       "'http://35.185.196.38:3128'"
      ]
     },
     "execution_count": 67,
     "metadata": {},
     "output_type": "execute_result"
    }
   ],
   "source": [
    "from fp.fp import FreeProxy\n",
    "\n",
    "FreeProxy().get()"
   ]
  },
  {
   "cell_type": "code",
   "execution_count": 81,
   "metadata": {},
   "outputs": [],
   "source": [
    "from pytrends.request import TrendReq\n",
    "from pytrends.exceptions import TooManyRequestsError,ResponseError\n",
    "from requests import ReadTimeout\n",
    "import retry\n",
    "from fp.fp import FreeProxy\n",
    "\n",
    "\n",
    "class RetryBaseException(BaseException):\n",
    "\n",
    "    def __init__(self, *args: object) -> None:\n",
    "        super().__init__(*args)\n",
    "\n",
    "@retry.retry(exceptions=(RetryBaseException),tries=10, delay=8, backoff=3)\n",
    "def get_releated(keyword):\n",
    "\n",
    "    try:\n",
    "        # Create a TrendReq object\n",
    "        pytrends = TrendReq(geo=\"IL\", proxies=[FreeProxy(https=True).get()])\n",
    "        \n",
    "        # Build the payload for the query\n",
    "        pytrends.build_payload(kw_list=[keyword])\n",
    "\n",
    "        # Get related queries\n",
    "        related_queries = pytrends.related_queries()\n",
    "\n",
    "\n",
    "        return related_queries[keyword]['top'],related_queries[keyword]['rising']    \n",
    "    except (TooManyRequestsError,ResponseError,ReadTimeout) as e:\n",
    "        raise RetryBaseException(e)       \n"
   ]
  },
  {
   "cell_type": "markdown",
   "metadata": {},
   "source": [
    "- Rising searches are terms that were searched for with the keyword you entered (or overall searches, if no keyword was entered), which had the most significant growth in volume in the requested time period.\n"
   ]
  },
  {
   "cell_type": "code",
   "execution_count": 74,
   "metadata": {},
   "outputs": [],
   "source": [
    "top, rising = get_releated(\"בית\")"
   ]
  },
  {
   "cell_type": "code",
   "execution_count": 83,
   "metadata": {},
   "outputs": [
    {
     "name": "stdout",
     "output_type": "stream",
     "text": [
      "Processing משכנתא\n",
      "Processing מחשבון משכנתא פשוט\n",
      "2024-04-11 22:23:07,866 - WARNING - The request failed: Google returned a response with code 500, retrying in 8 seconds...\n",
      "No raising for מחשבון משכנתא פשוט\n",
      "Processing טפחות משכנתא אזור אישי\n",
      "2024-04-11 22:24:04,907 - WARNING - The request failed: Google returned a response with code 500, retrying in 8 seconds...\n",
      "No raising for טפחות משכנתא אזור אישי\n",
      "Processing הקפאת משכנתא מזרחי טפחות\n",
      "2024-04-11 22:25:06,815 - WARNING - The request failed: Google returned a response with code 500, retrying in 8 seconds...\n",
      "2024-04-11 22:25:37,502 - WARNING - The request failed: Google returned a response with code 429, retrying in 16 seconds...\n",
      "Processing לאומי דיגיטל משכנתא\n",
      "2024-04-11 22:26:42,432 - WARNING - The request failed: Google returned a response with code 429, retrying in 8 seconds...\n",
      "2024-04-11 22:27:14,303 - WARNING - The request failed: Google returned a response with code 500, retrying in 16 seconds...\n",
      "2024-04-11 22:27:53,042 - WARNING - HTTPSConnectionPool(host='trends.google.com', port=443): Read timed out. (read timeout=2), retrying in 32 seconds...\n",
      "2024-04-11 22:28:49,155 - WARNING - HTTPSConnectionPool(host='trends.google.com', port=443): Read timed out. (read timeout=2), retrying in 64 seconds...\n"
     ]
    },
    {
     "ename": "RetryBaseException",
     "evalue": "The request failed: Google returned a response with code 500",
     "output_type": "error",
     "traceback": [
      "\u001b[0;31m---------------------------------------------------------------------------\u001b[0m",
      "\u001b[0;31mResponseError\u001b[0m                             Traceback (most recent call last)",
      "Cell \u001b[0;32mIn[81], line 24\u001b[0m, in \u001b[0;36mget_releated\u001b[0;34m(keyword)\u001b[0m\n\u001b[1;32m     23\u001b[0m \u001b[38;5;66;03m# Get related queries\u001b[39;00m\n\u001b[0;32m---> 24\u001b[0m related_queries \u001b[38;5;241m=\u001b[39m \u001b[43mpytrends\u001b[49m\u001b[38;5;241;43m.\u001b[39;49m\u001b[43mrelated_queries\u001b[49m\u001b[43m(\u001b[49m\u001b[43m)\u001b[49m\n\u001b[1;32m     27\u001b[0m \u001b[38;5;28;01mreturn\u001b[39;00m related_queries[keyword][\u001b[38;5;124m'\u001b[39m\u001b[38;5;124mtop\u001b[39m\u001b[38;5;124m'\u001b[39m],related_queries[keyword][\u001b[38;5;124m'\u001b[39m\u001b[38;5;124mrising\u001b[39m\u001b[38;5;124m'\u001b[39m]    \n",
      "File \u001b[0;32m~/Documents/Notebooks/.venv/lib/python3.9/site-packages/pytrends/request.py:440\u001b[0m, in \u001b[0;36mTrendReq.related_queries\u001b[0;34m(self)\u001b[0m\n\u001b[1;32m    439\u001b[0m \u001b[38;5;66;03m# parse the returned json\u001b[39;00m\n\u001b[0;32m--> 440\u001b[0m req_json \u001b[38;5;241m=\u001b[39m \u001b[38;5;28;43mself\u001b[39;49m\u001b[38;5;241;43m.\u001b[39;49m\u001b[43m_get_data\u001b[49m\u001b[43m(\u001b[49m\n\u001b[1;32m    441\u001b[0m \u001b[43m    \u001b[49m\u001b[43murl\u001b[49m\u001b[38;5;241;43m=\u001b[39;49m\u001b[43mTrendReq\u001b[49m\u001b[38;5;241;43m.\u001b[39;49m\u001b[43mRELATED_QUERIES_URL\u001b[49m\u001b[43m,\u001b[49m\n\u001b[1;32m    442\u001b[0m \u001b[43m    \u001b[49m\u001b[43mmethod\u001b[49m\u001b[38;5;241;43m=\u001b[39;49m\u001b[43mTrendReq\u001b[49m\u001b[38;5;241;43m.\u001b[39;49m\u001b[43mGET_METHOD\u001b[49m\u001b[43m,\u001b[49m\n\u001b[1;32m    443\u001b[0m \u001b[43m    \u001b[49m\u001b[43mtrim_chars\u001b[49m\u001b[38;5;241;43m=\u001b[39;49m\u001b[38;5;241;43m5\u001b[39;49m\u001b[43m,\u001b[49m\n\u001b[1;32m    444\u001b[0m \u001b[43m    \u001b[49m\u001b[43mparams\u001b[49m\u001b[38;5;241;43m=\u001b[39;49m\u001b[43mrelated_payload\u001b[49m\u001b[43m,\u001b[49m\n\u001b[1;32m    445\u001b[0m \u001b[43m\u001b[49m\u001b[43m)\u001b[49m\n\u001b[1;32m    447\u001b[0m \u001b[38;5;66;03m# top queries\u001b[39;00m\n",
      "File \u001b[0;32m~/Documents/Notebooks/.venv/lib/python3.9/site-packages/pytrends/request.py:160\u001b[0m, in \u001b[0;36mTrendReq._get_data\u001b[0;34m(self, url, method, trim_chars, **kwargs)\u001b[0m\n\u001b[1;32m    159\u001b[0m     \u001b[38;5;28;01mraise\u001b[39;00m exceptions\u001b[38;5;241m.\u001b[39mTooManyRequestsError\u001b[38;5;241m.\u001b[39mfrom_response(response)\n\u001b[0;32m--> 160\u001b[0m \u001b[38;5;28;01mraise\u001b[39;00m exceptions\u001b[38;5;241m.\u001b[39mResponseError\u001b[38;5;241m.\u001b[39mfrom_response(response)\n",
      "\u001b[0;31mResponseError\u001b[0m: The request failed: Google returned a response with code 500",
      "\nDuring handling of the above exception, another exception occurred:\n",
      "\u001b[0;31mRetryBaseException\u001b[0m                        Traceback (most recent call last)",
      "Cell \u001b[0;32mIn[83], line 18\u001b[0m\n\u001b[1;32m     14\u001b[0m done\u001b[38;5;241m.\u001b[39mappend(current_node)\n\u001b[1;32m     16\u001b[0m \u001b[38;5;28mprint\u001b[39m(\u001b[38;5;124mf\u001b[39m\u001b[38;5;124m\"\u001b[39m\u001b[38;5;124mProcessing \u001b[39m\u001b[38;5;132;01m{\u001b[39;00mcurrent_node\u001b[38;5;132;01m}\u001b[39;00m\u001b[38;5;124m\"\u001b[39m)\n\u001b[0;32m---> 18\u001b[0m _,rising \u001b[38;5;241m=\u001b[39m \u001b[43mget_releated\u001b[49m\u001b[43m(\u001b[49m\u001b[43mcurrent_node\u001b[49m\u001b[43m)\u001b[49m\n\u001b[1;32m     20\u001b[0m \u001b[38;5;28;01mif\u001b[39;00m rising \u001b[38;5;129;01mis\u001b[39;00m \u001b[38;5;28;01mNone\u001b[39;00m:\n\u001b[1;32m     21\u001b[0m     \u001b[38;5;28mprint\u001b[39m(\u001b[38;5;124mf\u001b[39m\u001b[38;5;124m\"\u001b[39m\u001b[38;5;124mNo raising for \u001b[39m\u001b[38;5;132;01m{\u001b[39;00mcurrent_node\u001b[38;5;132;01m}\u001b[39;00m\u001b[38;5;124m\"\u001b[39m)\n",
      "File \u001b[0;32m~/Documents/Notebooks/.venv/lib/python3.9/site-packages/decorator.py:232\u001b[0m, in \u001b[0;36mdecorate.<locals>.fun\u001b[0;34m(*args, **kw)\u001b[0m\n\u001b[1;32m    230\u001b[0m \u001b[38;5;28;01mif\u001b[39;00m \u001b[38;5;129;01mnot\u001b[39;00m kwsyntax:\n\u001b[1;32m    231\u001b[0m     args, kw \u001b[38;5;241m=\u001b[39m fix(args, kw, sig)\n\u001b[0;32m--> 232\u001b[0m \u001b[38;5;28;01mreturn\u001b[39;00m \u001b[43mcaller\u001b[49m\u001b[43m(\u001b[49m\u001b[43mfunc\u001b[49m\u001b[43m,\u001b[49m\u001b[43m \u001b[49m\u001b[38;5;241;43m*\u001b[39;49m\u001b[43m(\u001b[49m\u001b[43mextras\u001b[49m\u001b[43m \u001b[49m\u001b[38;5;241;43m+\u001b[39;49m\u001b[43m \u001b[49m\u001b[43margs\u001b[49m\u001b[43m)\u001b[49m\u001b[43m,\u001b[49m\u001b[43m \u001b[49m\u001b[38;5;241;43m*\u001b[39;49m\u001b[38;5;241;43m*\u001b[39;49m\u001b[43mkw\u001b[49m\u001b[43m)\u001b[49m\n",
      "File \u001b[0;32m~/Documents/Notebooks/.venv/lib/python3.9/site-packages/retry/api.py:73\u001b[0m, in \u001b[0;36mretry.<locals>.retry_decorator\u001b[0;34m(f, *fargs, **fkwargs)\u001b[0m\n\u001b[1;32m     71\u001b[0m args \u001b[38;5;241m=\u001b[39m fargs \u001b[38;5;28;01mif\u001b[39;00m fargs \u001b[38;5;28;01melse\u001b[39;00m \u001b[38;5;28mlist\u001b[39m()\n\u001b[1;32m     72\u001b[0m kwargs \u001b[38;5;241m=\u001b[39m fkwargs \u001b[38;5;28;01mif\u001b[39;00m fkwargs \u001b[38;5;28;01melse\u001b[39;00m \u001b[38;5;28mdict\u001b[39m()\n\u001b[0;32m---> 73\u001b[0m \u001b[38;5;28;01mreturn\u001b[39;00m \u001b[43m__retry_internal\u001b[49m\u001b[43m(\u001b[49m\u001b[43mpartial\u001b[49m\u001b[43m(\u001b[49m\u001b[43mf\u001b[49m\u001b[43m,\u001b[49m\u001b[43m \u001b[49m\u001b[38;5;241;43m*\u001b[39;49m\u001b[43margs\u001b[49m\u001b[43m,\u001b[49m\u001b[43m \u001b[49m\u001b[38;5;241;43m*\u001b[39;49m\u001b[38;5;241;43m*\u001b[39;49m\u001b[43mkwargs\u001b[49m\u001b[43m)\u001b[49m\u001b[43m,\u001b[49m\u001b[43m \u001b[49m\u001b[43mexceptions\u001b[49m\u001b[43m,\u001b[49m\u001b[43m \u001b[49m\u001b[43mtries\u001b[49m\u001b[43m,\u001b[49m\u001b[43m \u001b[49m\u001b[43mdelay\u001b[49m\u001b[43m,\u001b[49m\u001b[43m \u001b[49m\u001b[43mmax_delay\u001b[49m\u001b[43m,\u001b[49m\u001b[43m \u001b[49m\u001b[43mbackoff\u001b[49m\u001b[43m,\u001b[49m\u001b[43m \u001b[49m\u001b[43mjitter\u001b[49m\u001b[43m,\u001b[49m\n\u001b[1;32m     74\u001b[0m \u001b[43m                        \u001b[49m\u001b[43mlogger\u001b[49m\u001b[43m)\u001b[49m\n",
      "File \u001b[0;32m~/Documents/Notebooks/.venv/lib/python3.9/site-packages/retry/api.py:33\u001b[0m, in \u001b[0;36m__retry_internal\u001b[0;34m(f, exceptions, tries, delay, max_delay, backoff, jitter, logger)\u001b[0m\n\u001b[1;32m     31\u001b[0m \u001b[38;5;28;01mwhile\u001b[39;00m _tries:\n\u001b[1;32m     32\u001b[0m     \u001b[38;5;28;01mtry\u001b[39;00m:\n\u001b[0;32m---> 33\u001b[0m         \u001b[38;5;28;01mreturn\u001b[39;00m \u001b[43mf\u001b[49m\u001b[43m(\u001b[49m\u001b[43m)\u001b[49m\n\u001b[1;32m     34\u001b[0m     \u001b[38;5;28;01mexcept\u001b[39;00m exceptions \u001b[38;5;28;01mas\u001b[39;00m e:\n\u001b[1;32m     35\u001b[0m         _tries \u001b[38;5;241m-\u001b[39m\u001b[38;5;241m=\u001b[39m \u001b[38;5;241m1\u001b[39m\n",
      "Cell \u001b[0;32mIn[81], line 29\u001b[0m, in \u001b[0;36mget_releated\u001b[0;34m(keyword)\u001b[0m\n\u001b[1;32m     27\u001b[0m     \u001b[38;5;28;01mreturn\u001b[39;00m related_queries[keyword][\u001b[38;5;124m'\u001b[39m\u001b[38;5;124mtop\u001b[39m\u001b[38;5;124m'\u001b[39m],related_queries[keyword][\u001b[38;5;124m'\u001b[39m\u001b[38;5;124mrising\u001b[39m\u001b[38;5;124m'\u001b[39m]    \n\u001b[1;32m     28\u001b[0m \u001b[38;5;28;01mexcept\u001b[39;00m (TooManyRequestsError,ResponseError,ReadTimeout) \u001b[38;5;28;01mas\u001b[39;00m e:\n\u001b[0;32m---> 29\u001b[0m     \u001b[38;5;28;01mraise\u001b[39;00m RetryBaseException(e)\n",
      "\u001b[0;31mRetryBaseException\u001b[0m: The request failed: Google returned a response with code 500"
     ]
    }
   ],
   "source": [
    "import networkx as nx\n",
    "\n",
    "\n",
    "queue = [\"משכנתא\"]\n",
    "Rising = nx.Graph()\n",
    "Rising.add_nodes_from(queue)\n",
    "\n",
    "done = []\n",
    "while len(queue) > 0:\n",
    "\n",
    "    \n",
    "    current_node = queue[0]\n",
    "    queue.remove(current_node)\n",
    "    done.append(current_node)\n",
    "    \n",
    "    print(f\"Processing {current_node}\")\n",
    "   \n",
    "    _,rising = get_releated(current_node)\n",
    "\n",
    "    if rising is None:\n",
    "        print(f\"No raising for {current_node}\")\n",
    "        continue\n",
    "\n",
    "    if rising.shape[0] == 0:\n",
    "        print(f\"Empty raising for {current_node}\")\n",
    "\n",
    "    for index,row in rising.iterrows():\n",
    "        \n",
    "        if row['query'] not in done:\n",
    "            queue.append(row['query'])\n",
    "            Rising.add_node(row['query'])\n",
    "            Rising.add_edge(current_node,row['query'],weight=row['value'])\n",
    "    \n",
    "\n",
    "    "
   ]
  },
  {
   "cell_type": "code",
   "execution_count": 37,
   "metadata": {},
   "outputs": [],
   "source": [
    "rising"
   ]
  },
  {
   "cell_type": "code",
   "execution_count": 25,
   "metadata": {},
   "outputs": [
    {
     "name": "stdout",
     "output_type": "stream",
     "text": [
      "/Users/erlichsefi/Documents/Notebooks\n"
     ]
    },
    {
     "name": "stderr",
     "output_type": "stream",
     "text": [
      "/Users/erlichsefi/Documents/Notebooks/.venv/lib/python3.9/site-packages/IPython/core/magics/osm.py:417: UserWarning: using dhist requires you to install the `pickleshare` library.\n",
      "  self.shell.db['dhist'] = compress_dhist(dhist)[-100:]\n"
     ]
    }
   ],
   "source": [
    "%cd .."
   ]
  },
  {
   "cell_type": "code",
   "execution_count": 26,
   "metadata": {},
   "outputs": [
    {
     "name": "stdout",
     "output_type": "stream",
     "text": [
      "2024-04-10 22:31:26,029 - INFO - Executing find_keyword function\n",
      "2024-04-10 22:31:26,030 - INFO - Prompt: \n",
      "    Today is 09.04.2024\n",
      "    Assuming that will 'house prices will increase'\n",
      "    What we will be the common searchs across the web that will increase or decrease in the weeks before?\n",
      "    Here is the context to use:\n",
      "    '''\n",
      "    \n",
      "Here is a context of a google trend search of the word \"משכנתא\"\n",
      "the top releated keyword are                   query  value\n",
      "0         מחשבון משכנתא    100\n",
      "1          משכנתא טפחות     30\n",
      "2                 טפחות     28\n",
      "3          לאומי משכנתא     27\n",
      "4          מזרחי משכנתא     23\n",
      "5          ביטוח משכנתא     19\n",
      "6          משכנתא ריבית     18\n",
      "7    משכנתא מזרחי טפחות     15\n",
      "8        הפועלים משכנתא     14\n",
      "9    בנק הפועלים משכנתא     13\n",
      "10       משכנתא דיסקונט     13\n",
      "11          החזר משכנתא     12\n",
      "12             משכנתאות     11\n",
      "13     בנק לאומי משכנתא      9\n",
      "14        משכנתא פועלים      8\n",
      "15         משכנתא הפוכה      8\n",
      "16         חישוב משכנתא      8\n",
      "17  לאומי מחשבון משכנתא      7\n",
      "18               הלוואה      6\n",
      "19     בנק טפחות משכנתא      6\n",
      "20            בנק טפחות      6\n",
      "21         רישום משכנתא      5\n",
      "22         דחיית משכנתא      5\n",
      "23        ריביות משכנתא      5\n",
      "24  מחשבון משכנתא מזרחי      5\n",
      "the top rising keyword are                        query  value\n",
      "0              משכנתא קורונה  51500\n",
      "1               דחיית משכנתא   1650\n",
      "2               הקפאת משכנתא    750\n",
      "3            משכנתא דיגיטלית    700\n",
      "4               משכנתא הפוכה    110\n",
      "5               מזרחי משכנתא    110\n",
      "6         משכנתא מזרחי טפחות     90\n",
      "7               סילוק משכנתא     90\n",
      "8        מחשבון משכנתא מזרחי     80\n",
      "9             משכנתא דיסקונט     80\n",
      "10        בקשה לרישום משכנתא     80\n",
      "11              מה זה משכנתא     70\n",
      "12        לאומי משכנתא טלפון     70\n",
      "13      דיסקונט משכנתא טלפון     70\n",
      "14            הפועלים משכנתא     70\n",
      "15        בנק הפועלים משכנתא     70\n",
      "16  בנק הפועלים משכנתא טלפון     60\n",
      "17  מזרחי טפחות משכנתא טלפון     60\n",
      "18         מזרחי טפחות טלפון     60\n",
      "19              משכנתא טפחות     50\n",
      "20                שטר משכנתא     50\n",
      "21               מחיר למשתכן     50\n",
      "22      מזרחי טפחות משכנתאות     50\n",
      "23        טפחות משכנתא טלפון     50\n",
      "24                     טפחות     40\n",
      "\n",
      "    '''\n",
      "    provide your estimation in the following format:\n",
      "    [\n",
      "    {\n",
      "        \n",
      "        \"search_term\":\"<the term search you expect will be impacted>\",\n",
      "        \"change_in_search_expectations\":\"<do you expect the number of searches to increase or decrease>\",\n",
      "        \"change_in_search_explanation\":\"<additional comments that explain why>\"\n",
      "    },\n",
      "    // more here\n",
      "    ]\n",
      "\n",
      "    Provide at least 10 queries. You must provide them in hebrew, think step by step.\n",
      "    \n",
      "2024-04-10 22:31:34,870 - INFO - HTTP Request: POST https://api.openai.com/v1/chat/completions \"HTTP/1.1 200 OK\"\n",
      "2024-04-10 22:31:34,889 - INFO - Result: [{'search_term': 'מחשבון משכנתא', 'change_in_search_expectations': 'increase', 'change_in_search_explanation': 'People will be more interested in calculating mortgage payments as house prices increase.'}, {'search_term': 'משכנתא טפחות', 'change_in_search_expectations': 'increase', 'change_in_search_explanation': 'There will be a rise in searches related to different mortgage options as more individuals consider buying a property.'}, {'search_term': 'לאומי משכנתא', 'change_in_search_expectations': 'increase', 'change_in_search_explanation': 'Interest in mortgages provided by specific banks might grow as people seek better deals with increasing house prices.'}, {'search_term': 'משכנתא ריבית', 'change_in_search_expectations': 'increase', 'change_in_search_explanation': 'With rising house prices, individuals will be more concerned about mortgage interest rates and their impact on overall costs.'}, {'search_term': 'משכנתא דיסקונט', 'change_in_search_expectations': 'increase', 'change_in_search_explanation': 'Discounted mortgage options will attract more attention as buyers look for ways to save on their property purchase.'}, {'search_term': 'ריביות משכנתא', 'change_in_search_expectations': 'increase', 'change_in_search_explanation': 'People will likely search for information on mortgage interest rates to understand potential financial commitments.'}, {'search_term': 'משכנתא קורונה', 'change_in_search_expectations': 'increase', 'change_in_search_explanation': 'The impact of the COVID-19 pandemic on mortgages may become a more significant concern for individuals entering the property market.'}, {'search_term': 'משכנתא דיגיטלית', 'change_in_search_expectations': 'increase', 'change_in_search_explanation': 'Digital mortgage solutions may gain popularity as buyers seek convenient and efficient ways to secure financing for their properties.'}, {'search_term': 'מה זה משכנתא', 'change_in_search_expectations': 'increase', 'change_in_search_explanation': 'As house prices increase, more people may research the basic concept of mortgages to understand the financial arrangement involved in buying a property.'}, {'search_term': 'מחיר למשתכן', 'change_in_search_expectations': 'increase', 'change_in_search_explanation': 'With the anticipation of rising house prices, individuals may search for the average cost of properties to assess their affordability and loan requirements.'}]\n"
     ]
    }
   ],
   "source": [
    "from keyword_research import find_keyword\n",
    "\n",
    "context = f\"\"\"\n",
    "Here is a context of a google trend search of the word \"משכנתא\"\n",
    "the top releated keyword are {top}\n",
    "the top rising keyword are {rising}\n",
    "\"\"\"\n",
    "search_terms = find_keyword(\n",
    "\"09.04.2024\",\n",
    "\"house prices will increase\",\n",
    "\"hebrew\",\n",
    "num_of_terms=10,\n",
    "context=context,\n",
    ")"
   ]
  },
  {
   "cell_type": "code",
   "execution_count": 27,
   "metadata": {},
   "outputs": [
    {
     "data": {
      "text/html": [
       "<div>\n",
       "<style scoped>\n",
       "    .dataframe tbody tr th:only-of-type {\n",
       "        vertical-align: middle;\n",
       "    }\n",
       "\n",
       "    .dataframe tbody tr th {\n",
       "        vertical-align: top;\n",
       "    }\n",
       "\n",
       "    .dataframe thead th {\n",
       "        text-align: right;\n",
       "    }\n",
       "</style>\n",
       "<table border=\"1\" class=\"dataframe\">\n",
       "  <thead>\n",
       "    <tr style=\"text-align: right;\">\n",
       "      <th></th>\n",
       "      <th>search_term</th>\n",
       "      <th>change_in_search_expectations</th>\n",
       "      <th>change_in_search_explanation</th>\n",
       "    </tr>\n",
       "  </thead>\n",
       "  <tbody>\n",
       "    <tr>\n",
       "      <th>0</th>\n",
       "      <td>מחשבון משכנתא</td>\n",
       "      <td>increase</td>\n",
       "      <td>People will be more interested in calculating ...</td>\n",
       "    </tr>\n",
       "    <tr>\n",
       "      <th>1</th>\n",
       "      <td>משכנתא טפחות</td>\n",
       "      <td>increase</td>\n",
       "      <td>There will be a rise in searches related to di...</td>\n",
       "    </tr>\n",
       "    <tr>\n",
       "      <th>2</th>\n",
       "      <td>לאומי משכנתא</td>\n",
       "      <td>increase</td>\n",
       "      <td>Interest in mortgages provided by specific ban...</td>\n",
       "    </tr>\n",
       "    <tr>\n",
       "      <th>3</th>\n",
       "      <td>משכנתא ריבית</td>\n",
       "      <td>increase</td>\n",
       "      <td>With rising house prices, individuals will be ...</td>\n",
       "    </tr>\n",
       "    <tr>\n",
       "      <th>4</th>\n",
       "      <td>משכנתא דיסקונט</td>\n",
       "      <td>increase</td>\n",
       "      <td>Discounted mortgage options will attract more ...</td>\n",
       "    </tr>\n",
       "    <tr>\n",
       "      <th>5</th>\n",
       "      <td>ריביות משכנתא</td>\n",
       "      <td>increase</td>\n",
       "      <td>People will likely search for information on m...</td>\n",
       "    </tr>\n",
       "    <tr>\n",
       "      <th>6</th>\n",
       "      <td>משכנתא קורונה</td>\n",
       "      <td>increase</td>\n",
       "      <td>The impact of the COVID-19 pandemic on mortgag...</td>\n",
       "    </tr>\n",
       "    <tr>\n",
       "      <th>7</th>\n",
       "      <td>משכנתא דיגיטלית</td>\n",
       "      <td>increase</td>\n",
       "      <td>Digital mortgage solutions may gain popularity...</td>\n",
       "    </tr>\n",
       "    <tr>\n",
       "      <th>8</th>\n",
       "      <td>מה זה משכנתא</td>\n",
       "      <td>increase</td>\n",
       "      <td>As house prices increase, more people may rese...</td>\n",
       "    </tr>\n",
       "    <tr>\n",
       "      <th>9</th>\n",
       "      <td>מחיר למשתכן</td>\n",
       "      <td>increase</td>\n",
       "      <td>With the anticipation of rising house prices, ...</td>\n",
       "    </tr>\n",
       "  </tbody>\n",
       "</table>\n",
       "</div>"
      ],
      "text/plain": [
       "       search_term change_in_search_expectations  \\\n",
       "0    מחשבון משכנתא                      increase   \n",
       "1     משכנתא טפחות                      increase   \n",
       "2     לאומי משכנתא                      increase   \n",
       "3     משכנתא ריבית                      increase   \n",
       "4   משכנתא דיסקונט                      increase   \n",
       "5    ריביות משכנתא                      increase   \n",
       "6    משכנתא קורונה                      increase   \n",
       "7  משכנתא דיגיטלית                      increase   \n",
       "8     מה זה משכנתא                      increase   \n",
       "9      מחיר למשתכן                      increase   \n",
       "\n",
       "                        change_in_search_explanation  \n",
       "0  People will be more interested in calculating ...  \n",
       "1  There will be a rise in searches related to di...  \n",
       "2  Interest in mortgages provided by specific ban...  \n",
       "3  With rising house prices, individuals will be ...  \n",
       "4  Discounted mortgage options will attract more ...  \n",
       "5  People will likely search for information on m...  \n",
       "6  The impact of the COVID-19 pandemic on mortgag...  \n",
       "7  Digital mortgage solutions may gain popularity...  \n",
       "8  As house prices increase, more people may rese...  \n",
       "9  With the anticipation of rising house prices, ...  "
      ]
     },
     "execution_count": 27,
     "metadata": {},
     "output_type": "execute_result"
    }
   ],
   "source": [
    "search_terms"
   ]
  },
  {
   "cell_type": "code",
   "execution_count": null,
   "metadata": {},
   "outputs": [],
   "source": [
    "def get_trend_data(kw, date_start, date_end, country, number_of_dates_to_comapre):\n",
    "    from pytrends.request import TrendReq\n",
    "\n",
    "    segment_params = {\"geo\": country}\n",
    "\n",
    "    pytrend = TrendReq(**segment_params)\n",
    "\n",
    "    # Build the payload\n",
    "    timeframe = f\"{date_start.strftime('%Y-%m-%d')} {date_end.strftime('%Y-%m-%d')}\"\n",
    "    pytrend.build_payload(kw_list=[kw], timeframe=timeframe)\n",
    "\n",
    "    # Interest Over Time\n",
    "    interest_over_time_df = pytrend.interest_over_time()\n",
    "    if interest_over_time_df.shape[0] == 0:\n",
    "        raise ValueError(\"trend api, return no data.\")\n",
    "\n",
    "    # Remove partial\n",
    "    if interest_over_time_df.iloc[-1].isPartial:\n",
    "        interest_over_time_df = interest_over_time_df.iloc[:-1]\n",
    "\n",
    "    return (\n",
    "        interest_over_time_df.iloc[:-number_of_dates_to_comapre],\n",
    "        interest_over_time_df.iloc[-number_of_dates_to_comapre:],\n",
    "    )"
   ]
  }
 ],
 "metadata": {
  "kernelspec": {
   "display_name": ".venv",
   "language": "python",
   "name": "python3"
  },
  "language_info": {
   "codemirror_mode": {
    "name": "ipython",
    "version": 3
   },
   "file_extension": ".py",
   "mimetype": "text/x-python",
   "name": "python",
   "nbconvert_exporter": "python",
   "pygments_lexer": "ipython3",
   "version": "3.9.6"
  }
 },
 "nbformat": 4,
 "nbformat_minor": 2
}
